{
 "cells": [
  {
   "cell_type": "markdown",
   "id": "2085cc1f",
   "metadata": {},
   "source": [
    "# Read fastq sequences and check their quality"
   ]
  },
  {
   "cell_type": "markdown",
   "id": "5c5ff760",
   "metadata": {},
   "source": [
    "# Packages & Libraries "
   ]
  },
  {
   "cell_type": "code",
   "execution_count": null,
   "id": "0e6423f8",
   "metadata": {},
   "outputs": [],
   "source": [
    "if (!requireNamespace(\"BiocManager\", quietly = TRUE))\n",
    "  install.packages(\"BiocManager\")\n",
    "\n",
    "BiocManager::install(\"ShortRead\")"
   ]
  },
  {
   "cell_type": "code",
   "execution_count": null,
   "id": "95a21942",
   "metadata": {},
   "outputs": [],
   "source": [
    "install.packages(\"ggplot2\")"
   ]
  },
  {
   "cell_type": "code",
   "execution_count": null,
   "id": "7c170a02",
   "metadata": {},
   "outputs": [],
   "source": [
    "library(ShortRead)\n",
    "library(ggplot2)"
   ]
  },
  {
   "cell_type": "markdown",
   "id": "89f37f30",
   "metadata": {},
   "source": [
    "# Read fastq file(s)"
   ]
  },
  {
   "cell_type": "code",
   "execution_count": null,
   "id": "b79eb4e2",
   "metadata": {},
   "outputs": [],
   "source": [
    "setwd(\"E:/NGS\")"
   ]
  },
  {
   "cell_type": "code",
   "execution_count": null,
   "id": "cdf1c747",
   "metadata": {},
   "outputs": [],
   "source": [
    "# create a sub directory\n",
    "dir.create('Fastq_read')\n",
    "setwd(\"E:/NGS/Fastq_read\")"
   ]
  },
  {
   "cell_type": "code",
   "execution_count": null,
   "id": "6d1a4bb9",
   "metadata": {},
   "outputs": [],
   "source": [
    "## read fastq [The fastq file was retrieved from SRA using linux command line tools]\n",
    "fq = readFastq('E:/Linux/SRA/SRR13764788.fastq')\n",
    "head(fq) "
   ]
  },
  {
   "cell_type": "code",
   "execution_count": null,
   "id": "da6b797d",
   "metadata": {},
   "outputs": [],
   "source": [
    "summary(fq) # Number of reads"
   ]
  },
  {
   "cell_type": "markdown",
   "id": "0e592077",
   "metadata": {},
   "source": [
    "# Look DNA sequences"
   ]
  },
  {
   "cell_type": "code",
   "execution_count": null,
   "id": "b3ae42f3",
   "metadata": {},
   "outputs": [],
   "source": [
    "reads_fq = sread(fq)\n",
    "head(reads_fq)"
   ]
  },
  {
   "cell_type": "raw",
   "id": "0b9b625d",
   "metadata": {},
   "source": [
    "## This gives us a quick look at both ends of the read\n",
    "## We can also quickly check that majority of the \n",
    "## characters are valid nt characters, which is a good sign "
   ]
  },
  {
   "cell_type": "code",
   "execution_count": null,
   "id": "6345f80d",
   "metadata": {
    "scrolled": true
   },
   "outputs": [],
   "source": [
    "## Pull out the read length\n",
    "widths_fq = reads_fq@ranges@width\n",
    "widths_fq #vector of width values ~ 5 hundred bp"
   ]
  },
  {
   "cell_type": "markdown",
   "id": "2c44aef7",
   "metadata": {},
   "source": [
    "# Graph quality scores"
   ]
  },
  {
   "cell_type": "raw",
   "id": "2cf5cdb5",
   "metadata": {},
   "source": [
    "## Quality scores: How was the quality of DNA obtained from NGS\n",
    "## Did we get unamiguous base call? Did we get high quality seq data?"
   ]
  },
  {
   "cell_type": "code",
   "execution_count": null,
   "id": "825047dd",
   "metadata": {},
   "outputs": [],
   "source": [
    "## for ggplot we must have \"widths_fq\" as a dataframe\n",
    "widths_fq = as.data.frame(reads_fq@ranges@width) "
   ]
  },
  {
   "cell_type": "code",
   "execution_count": null,
   "id": "b2fe424f",
   "metadata": {},
   "outputs": [],
   "source": [
    "write.csv(widths_fq, \"widths_fq.csv\", row.names = FALSE)"
   ]
  },
  {
   "cell_type": "code",
   "execution_count": null,
   "id": "cff7b104",
   "metadata": {},
   "outputs": [],
   "source": [
    "## Plot the widths\n",
    "ggplot(widths_fq) + \n",
    "  geom_histogram(aes(x=reads_fq@ranges@width))  \n",
    "\n",
    "## reads_fq1@ranges@width is the column name in the df"
   ]
  },
  {
   "cell_type": "raw",
   "id": "abc57ca8",
   "metadata": {},
   "source": [
    "# The majority of the reads in reads_fq1 are in the range of ~500 nt"
   ]
  },
  {
   "cell_type": "raw",
   "id": "10ce6ff7",
   "metadata": {},
   "source": [
    "## Let's plot the quality score"
   ]
  },
  {
   "cell_type": "code",
   "execution_count": null,
   "id": "14281666",
   "metadata": {},
   "outputs": [],
   "source": [
    "quals_fq = quality(fq)\n",
    "head(quals_fq)\n",
    "numqscores_fq = as(quals_fq, 'matrix') #convert these quals into numeric scores"
   ]
  },
  {
   "cell_type": "code",
   "execution_count": null,
   "id": "1063ed54",
   "metadata": {},
   "outputs": [],
   "source": [
    "## Calculate average quality score of each read\n",
    "## Remove NA by adding na.rm = TRUE\n",
    "avgscore_fq = rowMeans(numqscores_fq, na.rm = TRUE)\n",
    "avgscore_fq = as.data.frame(avgscore_fq)\n",
    "## Calculate average quality score of each read"
   ]
  },
  {
   "cell_type": "code",
   "execution_count": null,
   "id": "d2104b13",
   "metadata": {},
   "outputs": [],
   "source": [
    "write.csv(avgscore_fq, \"avgscore_fq.csv\", row.names = FALSE)"
   ]
  },
  {
   "cell_type": "code",
   "execution_count": null,
   "id": "95bbfd4b",
   "metadata": {},
   "outputs": [],
   "source": [
    "ggplot(avgscore_fq) +\n",
    "  geom_histogram(aes(x=avgscore_fq)) ## avgscore_fq is the column name"
   ]
  },
  {
   "cell_type": "code",
   "execution_count": null,
   "id": "3579e36a",
   "metadata": {},
   "outputs": [],
   "source": [
    "## This is the distribution with ~39 as the quality score for majority of the reads\n",
    "## This score indicates pretty good quality of the sequences "
   ]
  }
 ],
 "metadata": {
  "kernelspec": {
   "display_name": "R",
   "language": "R",
   "name": "ir"
  },
  "language_info": {
   "codemirror_mode": "r",
   "file_extension": ".r",
   "mimetype": "text/x-r-source",
   "name": "R",
   "pygments_lexer": "r",
   "version": "3.6.1"
  }
 },
 "nbformat": 4,
 "nbformat_minor": 5
}
